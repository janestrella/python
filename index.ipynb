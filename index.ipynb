{
 "cells": [
  {
   "cell_type": "markdown",
   "metadata": {
    "collapsed": true
   },
   "source": [
    "[Course](http://enterlifeonline.com/GA/workshops/python) / \n",
    "[Home](http://localhost:8889/notebooks/GA/workshops/python/Exercises/index.ipynb) | \n",
    "[Next: Simple Code](http://localhost:8889/notebooks/GA/workshops/python/Exercises/hello_world.ipynb)"
   ]
  },
  {
   "cell_type": "markdown",
   "metadata": {
    "collapsed": true
   },
   "source": [
    "INTRODUCTION\n",
    "---\n",
    "Introduction to Python is a resource for students who want to learn Python as their first language."
   ]
  },
  {
   "cell_type": "markdown",
   "metadata": {},
   "source": [
    "SIMPLE CODE\n",
    "---\n",
    "If your computer is already set up to run Python programs, you can get started with using [Hello World](http://localhost:8889/notebooks/GA/workshops/python/Exercises/hello_world.ipynb) - your very first Python program."
   ]
  },
  {
   "cell_type": "markdown",
   "metadata": {},
   "source": [
    "SETUP & CONFIGURE\n",
    "---\n",
    "If your computer is not yet set up to run Python programs, we can show you how to [setup & configure Python](http://localhost:8889/notebooks/GA/workshops/python/Exercises/programming_environment.ipynb)."
   ]
  },
  {
   "cell_type": "markdown",
   "metadata": {},
   "source": [
    "ONLINE RESOURCES\n",
    "---\n",
    "See class [GitHub page](https://github.com/enterlifeonline/workshops/tree/python). \n",
    "See online course [General Assembly Beginners Workshop Series:Introduction to Data Science with Python](http://enterlifeonline.com/GA/workshops/python)"
   ]
  },
  {
   "cell_type": "markdown",
   "metadata": {
    "collapsed": true
   },
   "source": [
    "Exercises\n",
    "---\n",
    "\n",
    "1. [Introduction](http://localhost:8889/notebooks/GA/workshops/python/Exercises/index.ipynb)\n",
    "2. [Simple Code](http://localhost:8889/notebooks/GA/workshops/python/Exercises/hello_world.ipynb)\n",
    "3. [Variables, Strings, Numbers](http://localhost:8889/notebooks/GA/workshops/python/Exercises/var_string_num.ipynb)\n",
    "4. [Lists and Tuples](http://localhost:8889/notebooks/GA/workshops/python/Exercises/lists_tuples.ipynb)\n",
    "5. [Functions](http://localhost:8889/notebooks/GA/workshops/python/Exercises/introducing_functions.ipynb)\n",
    "6. [If Statements](http://localhost:8889/notebooks/GA/workshops/python/Exercises/if_statements.ipynb)\n",
    "7. [While Loops Input](http://localhost:8889/notebooks/GA/workshops/python/Exercises/if_statements.ipynb)\n",
    "8.  [Basic Terminal Apps](http://localhost:8889/notebooks/GA/workshops/python/Exercises/terminal_apps.ipynb)\n",
    "9. [Dictionaries](http://localhost:8889/notebooks/GA/workshops/python/Exercises/dictionaries.ipynb)\n",
    "10. [More Functions](http://localhost:8889/notebooks/GA/workshops/python/Exercises/more_functions.ipynb)\n",
    "11. [Classes](http://localhost:8889/notebooks/GA/workshops/python/Exercises/classes.ipynb)\n",
    "12. [Error Handling](http://localhost:8888/notebooks/GA/workshops/python/error_handling.ipynb)\n",
    "\n",
    "**Advanced**\n",
    "\n",
    "* [Latest Phone Number Of Your Friends]() \n",
    "* [Scraping LinkedIn / Website]()\n",
    "* [Creating Social Numbers]()\n",
    "* [Visualize Social Numbers]()\n"
   ]
  },
  {
   "cell_type": "markdown",
   "metadata": {},
   "source": [
    "Feedback\n",
    "---\n",
    "If you have any questions or comments, feel free to get in touch:\n",
    "\n",
    "Twitter: [@enterlol](https://twitter.com/enterlol)\n",
    "\n",
    "Email: garystephenjackson at gmail dot com\n",
    "\n",
    "LinkedIn: [https://hk.linkedin.com/in/gsjackson](https://hk.linkedin.com/in/gsjackson)"
   ]
  },
  {
   "cell_type": "markdown",
   "metadata": {},
   "source": [
    "About\n",
    "---\n",
    "Gary Jackson is a technologist, teacher, standup comedian and host of a podcast called bigdatastupid.com. Gary founded LOL Entertainment Group in 2002 in the United States and has since opened subsidaries in Cape Town, Hong Kong, and Cebu, Philippines. The focus is to use edutainment and analytics to encourage technology adoption and disruption.\n",
    "\n",
    "Gary brings with him nearly two decades of experiences in IT, Enterprise Architecture, and Big Data & Analytics working for and in multinational companies around the world.\n",
    "\n",
    "Gary formally was Regional Director of System Integrators (SIs) and Technology Partners for Qlik across Asia Pacific (including Japan, Australia, and New Zealand), Gary led the drive for interactive and collaborative partnerships between global and regional SIs, Business Consulting firms, and Technology Partners. These included Deloitte, KPMG, PwC, Accenture, Wipro, Cloudera, Revolution Analytics, MapR, Intel, and many others.\n",
    "\n",
    "Prior to that he was the Principal for Big Data & Analytics Growth Markets, for Computer Sciences Corporation (CSC), supporting Latin America and Asia-Pacific traveling back and forth between São Paulo, Brasil and Hong Kong. Gary has also worked for SAS Institute as Head of Technology for Asia Pacific, South Africa, Europe, and North America for more than a decade.\n",
    "Gary holds a Bachelor of Science in Computer Information Systems, Information Technology and Computer Information Systems from DeVry University. He is based in Hong Kong."
   ]
  },
  {
   "cell_type": "markdown",
   "metadata": {
    "collapsed": true
   },
   "source": [
    "- - - \n",
    "[Course](http://enterlifeonline.com/GA/workshops/python) / \n",
    "[Home](http://localhost:8889/notebooks/GA/workshops/python/Exercises/index.ipynb) | \n",
    "[Next: Simple Code](http://localhost:8889/notebooks/GA/workshops/python/Exercises/hello_world.ipynb)"
   ]
  }
 ],
 "metadata": {
  "kernelspec": {
   "display_name": "Python 3",
   "language": "python",
   "name": "python3"
  },
  "language_info": {
   "codemirror_mode": {
    "name": "ipython",
    "version": 3
   },
   "file_extension": ".py",
   "mimetype": "text/x-python",
   "name": "python",
   "nbconvert_exporter": "python",
   "pygments_lexer": "ipython3",
   "version": "3.5.1"
  }
 },
 "nbformat": 4,
 "nbformat_minor": 0
}
