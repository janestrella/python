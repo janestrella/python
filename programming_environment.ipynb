{
 "cells": [
  {
   "cell_type": "code",
   "execution_count": null,
   "metadata": {
    "collapsed": true
   },
   "outputs": [],
   "source": [
    "ENVIRONMENTS\n",
    "===\n",
    "This section will help you get your system set up so you can start writing programs quickly."
   ]
  },
  {
   "cell_type": "markdown",
   "metadata": {},
   "source": [
    "[Course](http://enterlifeonline.com/GA/workshops/python) / \n",
    "[Home](http://localhost:8889/notebooks/GA/workshops/python/Exercises/index.ipynb) | \n",
    "[Next: Hello World](http://localhost:8889/notebooks/GA/workshops/python/Exercises/hello_world.ipynb)"
   ]
  },
  {
   "cell_type": "markdown",
   "metadata": {
    "collapsed": true
   },
   "source": [
    "CONTENTS\n",
    "===\n",
    "- [Overview](#OVERVIEW)\n",
    "- [Systems](#SYSTEMS)\n",
    "    - [Mac](#Mac)\n",
    "    - [Windows](#Windows)\n",
    "    - [Linux](#Linux)\n",
    "- [Cloud](#Cloud)"
   ]
  },
  {
   "cell_type": "markdown",
   "metadata": {},
   "source": [
    "OVERVIEW\n",
    "===\n",
    "Our goal is to get your Python environment up and running in order to write and run your own programs. To do this, we want to:\n",
    "\n",
    "- Find out if Python is already installed on your computer.\n",
    "- Install Python, if it is not already installed.\n",
    "- Install a text editor that will make it easy to run your first programs.\n",
    "- Help you enter and run Hello World, your first Python program.\n",
    "- Congratulate you if it works, and give you some options for troubleshooting if it doesn't work.\n",
    "\n",
    "We also allow for a Cloud environment for those who do not have the hardware power on their laptop or desktop to build Data Science programs.  To use a cloud environment, we want to:\n",
    "\n",
    "- Help you install Microsoft Remote Desktop application.\n",
    "- Give you an IP address to use to connect to your new Cloud environment running on Amazon Web Services (EC2 instance).\n",
    "- Give you the username and password to login to your new Cloud environment running on Amazon Web Services (EC2 instance)."
   ]
  },
  {
   "cell_type": "markdown",
   "metadata": {},
   "source": [
    "SYSTEMS\n",
    "===\n",
    "You can choose any type of operating system to run Data Science programs such as Python.  However, we will give you options and considerations when you are trying to decide. Also letting you know what good programmers use, and why they use it.\n",
    "\n",
    "If you don't already have a favorite text editor for programming, we're going to use Notepad++, Geany or Sublime Text. These editors make it easy to write and run your first programs. "
   ]
  },
  {
   "cell_type": "markdown",
   "metadata": {},
   "source": [
    "Mac\n",
    "---\n",
    "At a Python conference, you're likely to see more Macbooks than any other computer. So Macs are certainly a good platform on which to learn Python. Many of the people you see using Macbooks are actually running some distribution of Linux on their Mac, and running Python within a virtual Linux machine. \n",
    "\n",
    "Python 2.7 is probably already installed on your Mac, so we'll just verify that it is installed, and then install either Notepad++ or Sublime Text. However, in this class we will be using Python 3.5 so we will walk you through setting up Python 3.5 on your system.\n",
    "\n",
    "[Setting up an OS X system](http://localhost:8889/notebooks/GA/workshops/python/Exercises/programming_environment_osx.ipynb)"
   ]
  },
  {
   "cell_type": "code",
   "execution_count": null,
   "metadata": {
    "collapsed": true
   },
   "outputs": [],
   "source": [
    "Windows\n",
    "---\n",
    "Python doesn't come pre-installed on most Windows computers, but you can download an installer that will configure Python for you. Once you have Python installed and running, it's pretty straightforward to install Notepad++ or Geany, and then configure it to run Python programs.\n",
    "\n",
    "[Setting up a Windows system](http://localhost:8889/notebooks/GA/workshops/python/Exercises/programming_environment_windows.ipynb)"
   ]
  },
  {
   "cell_type": "markdown",
   "metadata": {},
   "source": [
    "Linux\n",
    "---\n",
    "Linux is a common programmers choice for writing Data Science programs using Python.  However, it is usually viewed as a more technical type of operating system to use and sometimes not recommended for new programmers.  The installation and configuration components are below and you can use Geany or another editor to write programs.\n",
    "\n",
    "[Setting up a Linux system](http://localhost:8889/notebooks/GA/workshops/python/Exercises/programming_environment_linux.ipynb)"
   ]
  },
  {
   "cell_type": "markdown",
   "metadata": {
    "collapsed": true
   },
   "source": [
    "Cloud\n",
    "---\n",
    "\n",
    "Using Cloud frees up your system resources to simply connect to a remote computer to write your Data Science programs. The other advantage to using cloud is the advantage to note be limited by data size.  \n",
    "\n",
    "However, the trade off is cost.  In order to use Cloud you must have an Amazon Web Services account setup.  If you are a user of Amazon or Amazon Prime - this is already done. \n",
    "\n",
    "We will be using Rackspace who is supporting the classroom environments for General Assemb.ly.\n",
    "\n",
    "[Connecting to the Cloud environment](http://localhost:8889/notebooks/GA/workshops/python/Exercises/programming_environment_cloud.ipynb)"
   ]
  },
  {
   "cell_type": "markdown",
   "metadata": {},
   "source": [
    "- - -\n",
    "[Course](http://enterlifeonline.com/GA/workshops/python) / \n",
    "[Home](http://localhost:8889/notebooks/GA/workshops/python/Exercises/index.ipynb) | \n",
    "[Next: Hello World](http://localhost:8889/notebooks/GA/workshops/python/Exercises/hello_world.ipynb) | [Top](#)"
   ]
  }
 ],
 "metadata": {
  "kernelspec": {
   "display_name": "Python 3",
   "language": "python",
   "name": "python3"
  },
  "language_info": {
   "codemirror_mode": {
    "name": "ipython",
    "version": 3
   },
   "file_extension": ".py",
   "mimetype": "text/x-python",
   "name": "python",
   "nbconvert_exporter": "python",
   "pygments_lexer": "ipython3",
   "version": "3.5.1"
  }
 },
 "nbformat": 4,
 "nbformat_minor": 0
}
