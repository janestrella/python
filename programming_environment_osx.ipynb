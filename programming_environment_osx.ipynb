{
 "cells": [
  {
   "cell_type": "markdown",
   "metadata": {},
   "source": [
    "Programming Environment: Mac OS X\n",
    "===\n",
    "This section will show you how to run your first Python program on an OS X computer."
   ]
  },
  {
   "cell_type": "markdown",
   "metadata": {},
   "source": [
    "[Previous: Programming Environment](http://nbviewer.ipython.org/urls/raw.github.com/ehmatthes/intro_programming/master/notebooks/programming_environment.ipynb) | \n",
    "[Home](http://nbviewer.ipython.org/urls/raw.github.com/ehmatthes/intro_programming/master/notebooks/index.ipynb) | \n",
    "[Next: Hello World](http://nbviewer.ipython.org/urls/raw.github.com/ehmatthes/intro_programming/master/notebooks/hello_world.ipynb)"
   ]
  },
  {
   "cell_type": "markdown",
   "metadata": {},
   "source": [
    "Contents\n",
    "===\n",
    "- [Python on OS X](#Python-on-OS-X)\n",
    "- [Installing Python](#Installing-Python)\n",
    "    - [Installing Python 3](#Installing-Python-3)\n",
    "- [Installing Sublime Text](#Installing-Sublime-Text)"
   ]
  },
  {
   "cell_type": "markdown",
   "metadata": {},
   "source": [
    "Python on OS X\n",
    "===\n",
    "If you use OS X, you shouldn't have much trouble getting started with Python. Python is installed by default on OS X, so you can probably get started without modifying your system at all. But you might want to install a newer version of Python than what you already have installed, and this section can help you with that."
   ]
  },
  {
   "cell_type": "markdown",
   "metadata": {},
   "source": [
    "Installing Python\n",
    "===\n",
    "Python is probably already installed on your system. To find out if it is installed, open a terminal and type the word `python`. To open a terminal, go to Applications and look for Terminal, or enter 'terminal' in your system's search bar.\n",
    "\n",
    "You'll probably see output that looks something like this:\n",
    "\n",
    "    $ python\n",
    "    Python 2.7.5 (default, Mar  9 2014, 22:15:05)\n",
    "    [GCC  4.2.1 Compatible Apple LLVM 5.0 (clang-500.0.68)] on darwin\n",
    "    Type \"help\", \"copyright\", \"credits\", or \"license\" for more information.\n",
    "    >>>\n",
    "From this output, we can see that Python is installed, and the currently installed version is Python 2.7.6. You're now running a Python terminal session. You can start typing Python commands here, and you'll see your output immediately:\n",
    "\n",
    "    >>> print(\"Hello Python world!\")\n",
    "    Hello Python world!\n",
    "    >>> "
   ]
  },
  {
   "cell_type": "markdown",
   "metadata": {},
   "source": [
    "Installing Python 3\n",
    "---\n",
    "There's a small chance Python 3 is already installed on your system. To find out, open a terminal and enter the command `python3`. You'll probably get an error message. If you find that Python 3 is already installed, you can skip ahead to the section about [installing Sublime Text](Installing-Sublime-Text).\n",
    "\n",
    "### Installing Homebrew\n",
    "[*Homebrew*](http://brew.sh) is a package manager for OS X, which makes it easy to set up a development environment on your system. Homebrew depends on Apple's xcode, so open a terminal and issue the following command:\n",
    "\n",
    "    $ xcode-select --install\n",
    "This command will take a little while to run, depending on your connection speed. When it's finished, you can install Homebrew:\n",
    "\n",
    "    $ ruby -e \"$(curl -fsSL https://raw.githubusercontent.com/Homebrew/install/master/install)\"\n",
    "This will install Homebrew, which is written in the Ruby programming language. Be careful when running commands like this; the `-e` flag tells your system to execute whatever follows. You should only execute code that you download from a trusted source. If you have any doubts about this, visit the [Homebrew](http://brew.sh) site yourself and follow the instructions there.\n",
    "\n",
    "Once you have Homebrew installed, check its status and then install Python 3:\n",
    "\n",
    "    $ brew doctor\n",
    "    Your system is ready to brew.\n",
    "    $ brew install python3\n",
    "Now you should be able to run Python 3 in a terminal session:\n",
    "\n",
    "    $ python3\n",
    "    >>> print(\"Hello Python 3 World!\")\n",
    "    Hello Python 3 World!\n",
    "    >>>\n",
    "To leave the Python session and return to a terminal prompt, enter Command-D."
   ]
  },
  {
   "cell_type": "markdown",
   "metadata": {},
   "source": [
    "[top](#)"
   ]
  },
  {
   "cell_type": "markdown",
   "metadata": {},
   "source": [
    "Installing Sublime Text\n",
    "===\n",
    "Sublime Text is a simple text editor, which makes it easy to run Python programs. Output is displayed in an embedded terminal window, which allows you to easily see the results of your programs. Sublime Text is not free software, but it has a liberal trial policy. Try it out; if you like it, please purchase a license. Sublime Text is one of the few editors that's friendly enough to be perfectly appropriate for beginners, but fully-featured enough for many professionals as well.\n",
    "\n",
    "To install Sublime Text, go to the [Downloads](http://www.sublimetext.com/3) page, and click on the OS X installer. Once it's installed, you should be ready to write [Hello World](http://nbviewer.ipython.org/urls/raw.github.com/ehmatthes/intro_programming/master/notebooks/hello_world.ipynb), your first Python program."
   ]
  },
  {
   "cell_type": "markdown",
   "metadata": {},
   "source": [
    "[top](#)"
   ]
  },
  {
   "cell_type": "markdown",
   "metadata": {},
   "source": [
    "- - -\n",
    "[Previous: Programming Environment](http://nbviewer.ipython.org/urls/raw.github.com/ehmatthes/intro_programming/master/notebooks/programming_environment.ipynb) | \n",
    "[Home](http://nbviewer.ipython.org/urls/raw.github.com/ehmatthes/intro_programming/master/notebooks/index.ipynb) | \n",
    "[Next: Hello World](http://nbviewer.ipython.org/urls/raw.github.com/ehmatthes/intro_programming/master/notebooks/hello_world.ipynb)"
   ]
  }
 ],
 "metadata": {
  "kernelspec": {
   "display_name": "Python 3",
   "language": "python",
   "name": "python3"
  },
  "language_info": {
   "codemirror_mode": {
    "name": "ipython",
    "version": 3
   },
   "file_extension": ".py",
   "mimetype": "text/x-python",
   "name": "python",
   "nbconvert_exporter": "python",
   "pygments_lexer": "ipython3",
   "version": "3.5.1"
  }
 },
 "nbformat": 4,
 "nbformat_minor": 0
}
